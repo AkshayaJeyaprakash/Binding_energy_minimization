{
 "cells": [
  {
   "cell_type": "code",
   "execution_count": 1,
   "id": "aad43bf7",
   "metadata": {},
   "outputs": [],
   "source": [
    "import sympy as sym\n",
    "import numpy as np"
   ]
  },
  {
   "cell_type": "code",
   "execution_count": 2,
   "id": "073e5a74",
   "metadata": {},
   "outputs": [],
   "source": [
    "def StD(f):\n",
    "    b = sym.Symbol(\"b\")\n",
    "    phi = sym.Symbol(\"phi\")\n",
    "    theta = sym.Symbol(\"theta\")\n",
    "    x = [1000]\n",
    "    y = [-200]\n",
    "    z = [50]\n",
    "    df_dx = sym.diff(f,b)\n",
    "    df_dy = sym.diff(f,phi)\n",
    "    df_dz = sym.diff(f,theta)\n",
    "    g0 = [df_dx.subs([(b,x[0]),(phi,y[0]),(theta,z[0])]),df_dy.subs([(b,x[0]),(phi,y[0]),(theta,z[0])]),df_dz.subs([(b,x[0]),(phi,y[0]),(theta,z[0])])]\n",
    "    d = [-x for x in g0]\n",
    "    for i in range(0,4):\n",
    "        I = [x[i],y[i],z[i]]\n",
    "        t = sym.Symbol(\"t\")\n",
    "        g = f.subs([(b,x[i]+d[0]*t),(phi,y[i]+t*d[1]),(theta,z[i]+t*d[2])])\n",
    "        dg_dt = sym.diff(g,t)\n",
    "        t = sym.solve(dg_dt,t)\n",
    "        t.append(0)\n",
    "        x.append(I[0]+t[0]*d[0])\n",
    "        y.append(I[1]+t[0]*d[1])\n",
    "        z.append(I[2]+t[0]*d[2])\n",
    "        g_o = [df_dx.subs([(b,x[i]),(phi,y[i]),(theta,z[i])]),df_dy.subs([(b,x[i]),(phi,y[i]),(theta,z[i])]),df_dz.subs([(b,x[i]),(phi,y[i]),(theta,z[i])])]\n",
    "        i = i+1;\n",
    "        g_1 = [df_dx.subs([(b,x[i]),(phi,y[i]),(theta,z[i])]),df_dy.subs([(b,x[i]),(phi,y[i]),(theta,z[i])]),df_dz.subs([(b,x[i]),(phi,y[i]),(theta,z[i])])]\n",
    "        d=[-x for x in g_1];\n",
    "    min1 = [ x[i], y[i], z[i], f.subs([(b,x[i]),(phi,y[i]),(theta,z[i])])]\n",
    "    return min1"
   ]
  },
  {
   "cell_type": "code",
   "execution_count": 3,
   "id": "4a303f9a",
   "metadata": {},
   "outputs": [],
   "source": [
    "def CnG(f):\n",
    "    b = sym.Symbol(\"b\")\n",
    "    phi = sym.Symbol(\"phi\")\n",
    "    theta = sym.Symbol(\"theta\")\n",
    "    x = [1000]\n",
    "    y = [-200]\n",
    "    z = [50]\n",
    "    df_dx = sym.diff(f,b)\n",
    "    df_dy = sym.diff(f,phi)\n",
    "    df_dz = sym.diff(f,theta)\n",
    "    g0 = [df_dx.subs([(b,x[0]),(phi,y[0]),(theta,z[0])]),df_dy.subs([(b,x[0]),(phi,y[0]),(theta,z[0])]),df_dz.subs([(b,x[0]),(phi,y[0]),(theta,z[0])])]\n",
    "    d = [-x for x in g0]\n",
    "    for i in range(0,4):\n",
    "        I = [x[i],y[i],z[i]]\n",
    "        t = sym.Symbol(\"t\")\n",
    "        g = f.subs([(b,x[i]+d[0]*t),(phi,y[i]+t*d[1]),(theta,z[i]+t*d[2])])\n",
    "        dg_dt = sym.diff(g,t)\n",
    "        t = sym.solve(dg_dt,t)\n",
    "        t.append(0)\n",
    "        x.append(I[0]+t[0]*d[0])\n",
    "        y.append(I[1]+t[0]*d[1])\n",
    "        z.append(I[2]+t[0]*d[2])\n",
    "        g_o = [df_dx.subs([(b,x[i]),(phi,y[i]),(theta,z[i])]),df_dy.subs([(b,x[i]),(phi,y[i]),(theta,z[i])]),df_dz.subs([(b,x[i]),(phi,y[i]),(theta,z[i])])]\n",
    "        i = i+1;\n",
    "        g_1 = [df_dx.subs([(b,x[i]),(phi,y[i]),(theta,z[i])]),df_dy.subs([(b,x[i]),(phi,y[i]),(theta,z[i])]),df_dz.subs([(b,x[i]),(phi,y[i]),(theta,z[i])])]\n",
    "        g_o_i = np.linalg.pinv(np.transpose([g_o]).astype(np.float64))\n",
    "        beta = (g_1*g_o_i)**2\n",
    "        d = np.transpose([-x for x in g_1]) + beta*np.transpose(d)\n",
    "        d = d[0]\n",
    "    min1 = [ x[i], y[i], z[i], f.subs([(b,x[i]),(phi,y[i]),(theta,z[i])])]\n",
    "    return min1"
   ]
  },
  {
   "cell_type": "code",
   "execution_count": 4,
   "id": "53030351",
   "metadata": {},
   "outputs": [
    {
     "name": "stdout",
     "output_type": "stream",
     "text": [
      "[5, 3, 4, 0]\n",
      "[5, 3, 4, 0]\n"
     ]
    }
   ],
   "source": [
    "b = sym.Symbol(\"b\")\n",
    "phi = sym.Symbol(\"phi\")\n",
    "theta = sym.Symbol(\"theta\")\n",
    "f = (b-5)**2 + (phi-3)**2 + (theta-4)**2\n",
    "mini = StD(f)\n",
    "mini1 = CnG(f)\n",
    "print(mini)\n",
    "print(mini1)"
   ]
  }
 ],
 "metadata": {
  "kernelspec": {
   "display_name": "Python 3",
   "language": "python",
   "name": "python3"
  },
  "language_info": {
   "codemirror_mode": {
    "name": "ipython",
    "version": 3
   },
   "file_extension": ".py",
   "mimetype": "text/x-python",
   "name": "python",
   "nbconvert_exporter": "python",
   "pygments_lexer": "ipython3",
   "version": "3.8.8"
  }
 },
 "nbformat": 4,
 "nbformat_minor": 5
}
