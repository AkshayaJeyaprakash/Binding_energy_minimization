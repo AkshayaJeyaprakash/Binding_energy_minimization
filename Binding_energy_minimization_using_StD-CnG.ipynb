{
 "cells": [
  {
   "cell_type": "code",
   "execution_count": 1,
   "id": "5559ac03",
   "metadata": {},
   "outputs": [],
   "source": [
    "import sys,math\n",
    "import sympy as sym\n",
    "import numpy as np\n",
    "import os\n",
    "from tqdm import tqdm\n",
    "import pandas as pd\n",
    "import time"
   ]
  },
  {
   "cell_type": "code",
   "execution_count": 2,
   "id": "454825d8",
   "metadata": {},
   "outputs": [],
   "source": [
    "bond_thresh = 1.2\n",
    "rad2deg = 180.0 / math.pi\n",
    "deg2rad = 1.0 / rad2deg"
   ]
  },
  {
   "cell_type": "code",
   "execution_count": 3,
   "id": "565fa90a",
   "metadata": {},
   "outputs": [],
   "source": [
    "cov_rads = {  'H' : 0.37, 'C' : 0.77, 'O' : 0.73, 'N' : 0.75, 'F' : 0.71,\n",
    "  'P' : 1.10, 'S' : 1.03, 'Cl': 0.99, 'Br': 1.14, 'I' : 1.33, 'He': 0.30,\n",
    "  'Ne': 0.84, 'Ar': 1.00, 'Li': 1.02, 'Be': 0.27, 'B' : 0.88, 'Na': 1.02,\n",
    "  'Mg': 0.72, 'Al': 1.30, 'Si': 1.18, 'K' : 1.38, 'Ca': 1.00, 'Sc': 0.75,\n",
    "  'Ti': 0.86, 'V' : 0.79, 'Cr': 0.73, 'Mn': 0.67, 'Fe': 0.61, 'Co': 0.64,\n",
    "  'Ni': 0.55, 'Cu': 0.46, 'Zn': 0.60, 'Ga': 1.22, 'Ge': 1.22, 'As': 1.22,\n",
    "  'Se': 1.17, 'Kr': 1.03, 'X' : 0.00}"
   ]
  },
  {
   "cell_type": "code",
   "execution_count": 4,
   "id": "3e36a649",
   "metadata": {},
   "outputs": [],
   "source": [
    "def get_file_string_array(file_name):\n",
    "    try:\n",
    "        file = open(file_name, \"r\")\n",
    "    except IOError:\n",
    "        print('Error: file (%s) not found!\\n' % (file_name))\n",
    "        sys.exit()\n",
    "    lines = file.readlines()\n",
    "    file.close()\n",
    "    array = []\n",
    "    for line in lines:\n",
    "        array.append(line.split())\n",
    "    return array"
   ]
  },
  {
   "cell_type": "code",
   "execution_count": 5,
   "id": "e35f2c0d",
   "metadata": {},
   "outputs": [],
   "source": [
    "def get_geom(xyz_file_name):\n",
    "    xyz_array = get_file_string_array(xyz_file_name)\n",
    "    n_atoms = int(xyz_array[0][0])\n",
    "    at_types = ['' for i in range(n_atoms)]\n",
    "    coords = [[0.0 for j in range(3)] for i in range(n_atoms)]\n",
    "    for i in range(n_atoms):\n",
    "        at_types[i] = xyz_array[i+2][0]\n",
    "        for j in range(3):\n",
    "            coords[i][j] = float(xyz_array[i+2][j+1])\n",
    "    geom = [at_types, coords]\n",
    "    return geom,n_atoms"
   ]
  },
  {
   "cell_type": "code",
   "execution_count": 6,
   "id": "1264732b",
   "metadata": {},
   "outputs": [],
   "source": [
    "def get_r12(coords1, coords2):\n",
    "    r2 = 0.0\n",
    "    for p in range(3):\n",
    "        r2 += (coords2[p] - coords1[p])**2\n",
    "    r = math.sqrt(r2)\n",
    "    return r"
   ]
  },
  {
   "cell_type": "code",
   "execution_count": 7,
   "id": "0706e9eb",
   "metadata": {},
   "outputs": [],
   "source": [
    "def get_u12(coords1, coords2):\n",
    "    r12 = get_r12(coords1, coords2)\n",
    "    u12 = [0.0 for p in range(3)]\n",
    "    for p in range(3):\n",
    "        u12[p] = (coords2[p] - coords1[p]) / r12\n",
    "    return u12"
   ]
  },
  {
   "cell_type": "code",
   "execution_count": 8,
   "id": "b5f7bfdc",
   "metadata": {},
   "outputs": [],
   "source": [
    "def get_udp(uvec1, uvec2):\n",
    "    udp = 0.0\n",
    "    for p in range(3):\n",
    "        udp += uvec1[p] * uvec2[p]\n",
    "    udp = max(min(udp, 1.0), -1.0)\n",
    "    return udp"
   ]
  },
  {
   "cell_type": "code",
   "execution_count": 9,
   "id": "6e360c49",
   "metadata": {},
   "outputs": [],
   "source": [
    "def get_ucp(uvec1, uvec2):\n",
    "    ucp = [0.0 for p in range(3)]\n",
    "    cos_12 = get_udp(uvec1, uvec2)\n",
    "    sin_12 = math.sqrt(1 - cos_12**2)\n",
    "    ucp[0] = (uvec1[1]*uvec2[2] - uvec1[2]*uvec2[1]) / sin_12\n",
    "    ucp[1] = (uvec1[2]*uvec2[0] - uvec1[0]*uvec2[2]) / sin_12\n",
    "    ucp[2] = (uvec1[0]*uvec2[1] - uvec1[1]*uvec2[0]) / sin_12\n",
    "    return ucp"
   ]
  },
  {
   "cell_type": "code",
   "execution_count": 10,
   "id": "b16f136f",
   "metadata": {},
   "outputs": [],
   "source": [
    "def get_a123(coords1, coords2, coords3):\n",
    "    u21 = get_u12(coords2, coords1)\n",
    "    u23 = get_u12(coords2, coords3)\n",
    "    dp2123 = get_udp(u21, u23)\n",
    "    a123 = rad2deg * math.acos(dp2123)\n",
    "    return a123"
   ]
  },
  {
   "cell_type": "code",
   "execution_count": 11,
   "id": "8bdac432",
   "metadata": {},
   "outputs": [],
   "source": [
    "def get_t1234(coords1, coords2, coords3, coords4):\n",
    "    u21 = get_u12(coords2, coords1)\n",
    "    u23 = get_u12(coords2, coords3)\n",
    "    u32 = get_u12(coords3, coords2)\n",
    "    u34 = get_u12(coords3, coords4)\n",
    "    u21c23 = get_ucp(u21, u23)\n",
    "    u32c34 = get_ucp(u32, u34)\n",
    "    dp = get_udp(u21c23, u32c34)\n",
    "    sign = 2 * float(get_udp(u21c23, u34) < 0) - 1\n",
    "    t1234 = rad2deg * sign * math.acos(dp)\n",
    "    return t1234"
   ]
  },
  {
   "cell_type": "code",
   "execution_count": 12,
   "id": "f3418b9e",
   "metadata": {},
   "outputs": [],
   "source": [
    "def get_bond_graph(geom):\n",
    "    at_types, coords = geom[0:2]\n",
    "    n_atoms = len(at_types)\n",
    "    bond_graph = [[] for i in range(n_atoms)]\n",
    "    for i in range(n_atoms):\n",
    "        covrad1 = cov_rads[at_types[i]]\n",
    "        for j in range(i+1, n_atoms):\n",
    "            covrad2 = cov_rads[at_types[j]]\n",
    "            thresh = bond_thresh * (covrad1 + covrad2)\n",
    "            r12 = get_r12(coords[i], coords[j])\n",
    "            if (r12 < thresh):\n",
    "                bond_graph[i].append(j)\n",
    "                bond_graph[j].append(i)\n",
    "    return bond_graph"
   ]
  },
  {
   "cell_type": "code",
   "execution_count": 13,
   "id": "dbee68c1",
   "metadata": {},
   "outputs": [],
   "source": [
    "def get_bonds(geom, bond_graph):\n",
    "    at_types, coords = geom[0:2]\n",
    "    n_atoms = len(at_types)\n",
    "    bonds = []\n",
    "    for i in range(n_atoms):      \n",
    "        for a in range(len(bond_graph[i])):\n",
    "            j = bond_graph[i][a]\n",
    "            if (i < j):\n",
    "                r12 = get_r12(coords[i], coords[j])\n",
    "                bonds.append(r12)\n",
    "    return bonds"
   ]
  },
  {
   "cell_type": "code",
   "execution_count": 14,
   "id": "427a4533",
   "metadata": {},
   "outputs": [],
   "source": [
    "def get_angles(geom, bond_graph):\n",
    "    at_types, coords = geom[0:2]\n",
    "    n_atoms = len(at_types)\n",
    "    angles = []\n",
    "    for j in range(n_atoms):\n",
    "        n_jbonds = len(bond_graph[j])\n",
    "        for a in range(n_jbonds):\n",
    "            i = bond_graph[j][a]\n",
    "            for b in range(a+1, n_jbonds):\n",
    "                k = bond_graph[j][b]\n",
    "                a123 = get_a123(coords[i], coords[j], coords[k])\n",
    "                angles.append(a123)\n",
    "    return angles"
   ]
  },
  {
   "cell_type": "code",
   "execution_count": 15,
   "id": "ae9e9e32",
   "metadata": {},
   "outputs": [],
   "source": [
    "def get_torsions(geom, bond_graph):\n",
    "    at_types, coords = geom[0:2]\n",
    "    n_atoms = len(at_types)\n",
    "    torsions = []\n",
    "    for j in range(n_atoms):\n",
    "        n_jbonds = len(bond_graph[j])\n",
    "        for a in range(n_jbonds):\n",
    "            k = bond_graph[j][a]\n",
    "            if (k < j):\n",
    "                continue\n",
    "            n_kbonds = len(bond_graph[k])\n",
    "            for b in range(n_jbonds):\n",
    "                i = bond_graph[j][b]\n",
    "                if (i == k):\n",
    "                    continue\n",
    "                for c in range(n_kbonds):\n",
    "                    l = bond_graph[k][c]\n",
    "                    if (l == j or l == i):\n",
    "                        continue\n",
    "                    t1234 = get_t1234(coords[i], coords[j], coords[k], coords[l])\n",
    "                    torsions.append(t1234)\n",
    "    return torsions"
   ]
  },
  {
   "cell_type": "code",
   "execution_count": 16,
   "id": "6dfc041b",
   "metadata": {},
   "outputs": [],
   "source": [
    "def make_func(bond1,angle1,torsion1):\n",
    "    E_bond = 0\n",
    "    E_theta = 0\n",
    "    E_phi = 0\n",
    "    E_phi2 = 0\n",
    "    k_theta = 1\n",
    "    k_b = 1\n",
    "    k_phi = 1\n",
    "    A = 1\n",
    "    tau = 1\n",
    "    b = sym.Symbol(\"b\")\n",
    "    phi = sym.Symbol(\"phi\")\n",
    "    theta = sym.Symbol(\"theta\")\n",
    "    for i in bond1:\n",
    "        E_bond = E_bond + k_b*(b-i)**2\n",
    "    for i in angle1:\n",
    "        E_theta = E_theta + k_theta*(theta-i)**2\n",
    "    for i in torsion1:\n",
    "        E_phi = E_phi + k_phi*(phi-i)**2\n",
    "    for i in range(1,7):\n",
    "        for j in torsion1:\n",
    "            E_phi2 = E_phi2 + A*(1+math.cos(math.degrees(i*tau + j)))\n",
    "    E_total = E_theta+E_bond+E_phi+E_phi2;\n",
    "    return E_total"
   ]
  },
  {
   "cell_type": "code",
   "execution_count": 17,
   "id": "abfc50c1",
   "metadata": {},
   "outputs": [],
   "source": [
    "def StD(f):\n",
    "    b = sym.Symbol(\"b\")\n",
    "    phi = sym.Symbol(\"phi\")\n",
    "    theta = sym.Symbol(\"theta\")\n",
    "    x = [1000]\n",
    "    y = [-200]\n",
    "    z = [50]\n",
    "    df_dx = sym.diff(f,b)\n",
    "    df_dy = sym.diff(f,phi)\n",
    "    df_dz = sym.diff(f,theta)\n",
    "    g0 = [df_dx.subs([(b,x[0]),(phi,y[0]),(theta,z[0])]),df_dy.subs([(b,x[0]),(phi,y[0]),(theta,z[0])]),df_dz.subs([(b,x[0]),(phi,y[0]),(theta,z[0])])]\n",
    "    d = [-x for x in g0]\n",
    "    for i in range(0,8):\n",
    "        I = [x[i],y[i],z[i]]\n",
    "        t = sym.Symbol(\"t\")\n",
    "        g = f.subs([(b,x[i]+d[0]*t),(phi,y[i]+t*d[1]),(theta,z[i]+t*d[2])])\n",
    "        dg_dt = sym.diff(g,t)\n",
    "        t = sym.solve(dg_dt,t)\n",
    "        t.append(0)\n",
    "        x.append(I[0]+t[0]*d[0])\n",
    "        y.append(I[1]+t[0]*d[1])\n",
    "        z.append(I[2]+t[0]*d[2])\n",
    "        g_o = [df_dx.subs([(b,x[i]),(phi,y[i]),(theta,z[i])]),df_dy.subs([(b,x[i]),(phi,y[i]),(theta,z[i])]),df_dz.subs([(b,x[i]),(phi,y[i]),(theta,z[i])])]\n",
    "        i = i+1;\n",
    "        g_1 = [df_dx.subs([(b,x[i]),(phi,y[i]),(theta,z[i])]),df_dy.subs([(b,x[i]),(phi,y[i]),(theta,z[i])]),df_dz.subs([(b,x[i]),(phi,y[i]),(theta,z[i])])]\n",
    "        d=[-x for x in g_1];\n",
    "    min1 = [ x[i], y[i], z[i], f.subs([(b,x[i]),(phi,y[i]),(theta,z[i])])]\n",
    "    return min1"
   ]
  },
  {
   "cell_type": "code",
   "execution_count": 18,
   "id": "8d6c8055",
   "metadata": {},
   "outputs": [],
   "source": [
    "def CnG(f):\n",
    "    b = sym.Symbol(\"b\")\n",
    "    phi = sym.Symbol(\"phi\")\n",
    "    theta = sym.Symbol(\"theta\")\n",
    "    x = [1000]\n",
    "    y = [-200]\n",
    "    z = [50]\n",
    "    df_dx = sym.diff(f,b)\n",
    "    df_dy = sym.diff(f,phi)\n",
    "    df_dz = sym.diff(f,theta)\n",
    "    g0 = [df_dx.subs([(b,x[0]),(phi,y[0]),(theta,z[0])]),df_dy.subs([(b,x[0]),(phi,y[0]),(theta,z[0])]),df_dz.subs([(b,x[0]),(phi,y[0]),(theta,z[0])])]\n",
    "    d = [-x for x in g0]\n",
    "    for i in range(0,8):\n",
    "        I = [x[i],y[i],z[i]]\n",
    "        t = sym.Symbol(\"t\")\n",
    "        g = f.subs([(b,x[i]+d[0]*t),(phi,y[i]+t*d[1]),(theta,z[i]+t*d[2])])\n",
    "        dg_dt = sym.diff(g,t)\n",
    "        t = sym.solve(dg_dt,t)\n",
    "        t.append(0)\n",
    "        x.append(I[0]+t[0]*d[0])\n",
    "        y.append(I[1]+t[0]*d[1])\n",
    "        z.append(I[2]+t[0]*d[2])\n",
    "        g_o = [df_dx.subs([(b,x[i]),(phi,y[i]),(theta,z[i])]),df_dy.subs([(b,x[i]),(phi,y[i]),(theta,z[i])]),df_dz.subs([(b,x[i]),(phi,y[i]),(theta,z[i])])]\n",
    "        i = i+1;\n",
    "        g_1 = [df_dx.subs([(b,x[i]),(phi,y[i]),(theta,z[i])]),df_dy.subs([(b,x[i]),(phi,y[i]),(theta,z[i])]),df_dz.subs([(b,x[i]),(phi,y[i]),(theta,z[i])])]\n",
    "        g_o_i = np.linalg.pinv(np.transpose([g_o]).astype(np.float64))\n",
    "        beta = (g_1*g_o_i)**2\n",
    "        d = np.transpose([-x for x in g_1]) + beta*np.transpose(d)\n",
    "        d = d[0]\n",
    "    min1 = [ x[i], y[i], z[i], f.subs([(b,x[i]),(phi,y[i]),(theta,z[i])])]\n",
    "    return min1"
   ]
  },
  {
   "cell_type": "code",
   "execution_count": 19,
   "id": "a4d4d6e5",
   "metadata": {},
   "outputs": [],
   "source": [
    "def minimize(file_name):\n",
    "    start = time.time()\n",
    "    geom,no = get_geom(file_name)\n",
    "    bond_graph = get_bond_graph(geom)\n",
    "    bonds = get_bonds(geom, bond_graph)\n",
    "    angles = get_angles(geom, bond_graph)\n",
    "    torsions = get_torsions(geom, bond_graph)\n",
    "    f = make_func(bonds,angles,torsions)\n",
    "    end = time.time()\n",
    "    start1 = time.time()\n",
    "    mini1 = StD(f)\n",
    "    end1 = time.time()\n",
    "    start2 = time.time()\n",
    "    mini2 = CnG(f)\n",
    "    end2 = time.time()\n",
    "    time1 = end-start\n",
    "    time2 = end1-start1\n",
    "    time3 = end2-start2\n",
    "    return mini1, mini2, no, time1, time2, time3"
   ]
  },
  {
   "cell_type": "code",
   "execution_count": null,
   "id": "a6f49a80",
   "metadata": {},
   "outputs": [
    {
     "name": "stderr",
     "output_type": "stream",
     "text": [
      "PROCESSING...:  73%|███████▎  | 199/274 [58:05<08:32,  6.84s/it]   "
     ]
    }
   ],
   "source": [
    "list_files = os.listdir(\"XYZ files\")\n",
    "molecule = []\n",
    "minimum_std = []\n",
    "minimum_cng = []\n",
    "n_atoms = []\n",
    "p_time = []\n",
    "s_time = []\n",
    "c_time = []\n",
    "for i in tqdm(range(len(list_files)), desc = 'PROCESSING...'):\n",
    "    path = \"C:\\\\Users\\\\admin\\\\Desktop\\\\StD,CnG\\\\XYZ files\\\\\"\n",
    "    file = path + list_files[i]\n",
    "    min1,min2,no,timep, times, timec = minimize(file)\n",
    "    c_file = list_files[i]\n",
    "    molecule.append(c_file[:len(c_file)-4])\n",
    "    minimum_std.append(min1)\n",
    "    minimum_cng.append(min2)\n",
    "    n_atoms.append(no)\n",
    "    p_time.append(timep)\n",
    "    s_time.append(times)\n",
    "    c_time.append(timec)"
   ]
  },
  {
   "cell_type": "code",
   "execution_count": null,
   "id": "6977af1a",
   "metadata": {},
   "outputs": [],
   "source": [
    "Compilation_Min = pd.DataFrame({'Molecule Name' : molecule,\n",
    "                                'Min Binding eng.-StD' : minimum_std,\n",
    "                                'Min Binding eng.-CnG' : minimum_cng, \n",
    "                                'No.of atoms in molec.': n_atoms,\n",
    "                                'Processing time': p_time,\n",
    "                                'STD time' : s_time,\n",
    "                                'CNG time' : c_time},\n",
    "                                columns=['Molecule Name','Min Binding eng.-StD', 'Min Binding eng.-CnG','No.of atoms in molec.','Processing time','STD time','CNG time'])"
   ]
  },
  {
   "cell_type": "code",
   "execution_count": null,
   "id": "15bd7ae6",
   "metadata": {},
   "outputs": [],
   "source": [
    "writer = pd.ExcelWriter('output.xlsx')\n",
    "Compilation_Min.to_excel(writer)\n",
    "writer.save()\n",
    "print('DataFrame is written successfully to Excel File.')"
   ]
  }
 ],
 "metadata": {
  "kernelspec": {
   "display_name": "Python 3",
   "language": "python",
   "name": "python3"
  },
  "language_info": {
   "codemirror_mode": {
    "name": "ipython",
    "version": 3
   },
   "file_extension": ".py",
   "mimetype": "text/x-python",
   "name": "python",
   "nbconvert_exporter": "python",
   "pygments_lexer": "ipython3",
   "version": "3.8.8"
  }
 },
 "nbformat": 4,
 "nbformat_minor": 5
}
